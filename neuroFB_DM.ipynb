{
 "cells": [
  {
   "cell_type": "code",
   "execution_count": 1,
   "metadata": {
    "collapsed": true
   },
   "outputs": [
    {
     "name": "stdout",
     "output_type": "stream",
     "text": [
      "['queried_ursi', 'oldest_ursi', 'instrument_id', 'instrument_label', 'visit', 'visit_instance', 'asmt_ursi', 'assessment_date', 'assessment_id', 'entry_code', 'site_id', 'source_type', 'rater1', 'successfully_completed', 'notes', 'instrument_id.1', 'instrument_label.1', 'visit.1', 'visit_instance.1', 'asmt_ursi.1', 'assessment_date.1', 'assessment_id.1', 'entry_code.1', 'site_id.1', 'source_type.1', 'rater1.1', 'successfully_completed.1', 'notes.1', 'instrument_id.2', 'instrument_label.2', 'visit.2', 'visit_instance.2', 'asmt_ursi.2', 'assessment_date.2', 'assessment_id.2', 'entry_code.2', 'site_id.2', 'source_type.2', 'rater1.2', 'successfully_completed.2', 'notes.2', 'instrument_id.3', 'instrument_label.3', 'visit.3', 'visit_instance.3', 'asmt_ursi.3', 'assessment_date.3', 'assessment_id.3', 'entry_code.3', 'site_id.3', 'source_type.3', 'rater1.3', 'successfully_completed.3', 'notes.3', 'instrument_id.4', 'instrument_label.4', 'visit.4', 'visit_instance.4', 'asmt_ursi.4', 'assessment_date.4', 'assessment_id.4', 'entry_code.4', 'site_id.4', 'source_type.4', 'rater1.4', 'successfully_completed.4', 'notes.4', 'instrument_id.5', 'instrument_label.5', 'visit.5', 'visit_instance.5', 'asmt_ursi.5', 'assessment_date.5', 'assessment_id.5', 'entry_code.5', 'site_id.5', 'source_type.5', 'rater1.5', 'successfully_completed.5', 'notes.5', 'instrument_id.6', 'instrument_label.6', 'visit.6', 'visit_instance.6', 'asmt_ursi.6', 'assessment_date.6', 'assessment_id.6', 'entry_code.6', 'site_id.6', 'source_type.6', 'rater1.6', 'successfully_completed.6', 'notes.6', 'instrument_id.7', 'instrument_label.7', 'visit.7', 'visit_instance.7', 'asmt_ursi.7', 'assessment_date.7', 'assessment_id.7', 'entry_code.7', 'site_id.7', 'source_type.7', 'rater1.7', 'successfully_completed.7', 'notes.7', 'instrument_id.8', 'instrument_label.8', 'visit.8', 'visit_instance.8', 'asmt_ursi.8', 'assessment_date.8', 'assessment_id.8', 'entry_code.8', 'site_id.8', 'source_type.8', 'rater1.8', 'successfully_completed.8', 'notes.8', 'instrument_id.9', 'instrument_label.9', 'visit.9', 'visit_instance.9', 'asmt_ursi.9', 'assessment_date.9', 'assessment_id.9', 'entry_code.9', 'site_id.9', 'source_type.9', 'rater1.9', 'successfully_completed.9', 'notes.9', 'instrument_id.10', 'instrument_label.10', 'visit.10', 'visit_instance.10', 'asmt_ursi.10', 'assessment_date.10', 'assessment_id.10', 'entry_code.10', 'site_id.10', 'source_type.10', 'rater1.10', 'successfully_completed.10', 'notes.10', 'instrument_id.11', 'instrument_label.11', 'visit.11', 'visit_instance.11', 'asmt_ursi.11', 'assessment_date.11', 'assessment_id.11', 'entry_code.11', 'site_id.11', 'source_type.11', 'rater1.11', 'successfully_completed.11', 'notes.11', 'instrument_id.12', 'instrument_label.12', 'visit.12', 'visit_instance.12', 'asmt_ursi.12', 'assessment_date.12', 'assessment_id.12', 'entry_code.12', 'site_id.12', 'source_type.12', 'rater1.12', 'successfully_completed.12', 'notes.12', 'instrument_id.13', 'instrument_label.13', 'visit.13', 'visit_instance.13', 'asmt_ursi.13', 'assessment_date.13', 'assessment_id.13', 'entry_code.13', 'site_id.13', 'source_type.13', 'rater1.13', 'successfully_completed.13', 'notes.13', 'instrument_id.14', 'instrument_label.14', 'visit.14', 'visit_instance.14', 'asmt_ursi.14', 'assessment_date.14', 'assessment_id.14', 'entry_code.14', 'site_id.14', 'source_type.14', 'rater1.14', 'successfully_completed.14', 'notes.14', 'instrument_id.15', 'instrument_label.15', 'visit.15', 'visit_instance.15', 'asmt_ursi.15', 'assessment_date.15', 'assessment_id.15', 'entry_code.15', 'site_id.15', 'source_type.15', 'rater1.15', 'successfully_completed.15', 'notes.15', 'instrument_id.16', 'instrument_label.16', 'visit.16', 'visit_instance.16', 'asmt_ursi.16', 'assessment_date.16', 'assessment_id.16', 'entry_code.16', 'site_id.16', 'source_type.16', 'rater1.16', 'successfully_completed.16', 'notes.16', 'instrument_id.17', 'instrument_label.17', 'visit.17', 'visit_instance.17', 'asmt_ursi.17', 'assessment_date.17', 'assessment_id.17', 'entry_code.17', 'site_id.17', 'source_type.17', 'rater1.17', 'successfully_completed.17', 'notes.17', 'instrument_id.18', 'instrument_label.18', 'visit.18', 'visit_instance.18', 'asmt_ursi.18', 'assessment_date.18', 'assessment_id.18', 'entry_code.18', 'site_id.18', 'source_type.18', 'rater1.18', 'successfully_completed.18', 'notes.18', 'instrument_id.19', 'instrument_label.19', 'visit.19', 'visit_instance.19', 'asmt_ursi.19', 'assessment_date.19', 'assessment_id.19', 'entry_code.19', 'site_id.19', 'source_type.19', 'rater1.19', 'successfully_completed.19', 'notes.19', 'instrument_id.20', 'instrument_label.20', 'visit.20', 'visit_instance.20', 'asmt_ursi.20', 'assessment_date.20', 'assessment_id.20', 'entry_code.20', 'site_id.20', 'source_type.20', 'rater1.20', 'successfully_completed.20', 'notes.20', 'instrument_id.21', 'instrument_label.21', 'visit.21', 'visit_instance.21', 'asmt_ursi.21', 'assessment_date.21', 'assessment_id.21', 'entry_code.21', 'site_id.21', 'source_type.21', 'rater1.21', 'successfully_completed.21', 'notes.21', 'instrument_id.22', 'instrument_label.22', 'visit.22', 'visit_instance.22', 'asmt_ursi.22', 'assessment_date.22', 'assessment_id.22', 'entry_code.22', 'site_id.22', 'source_type.22', 'rater1.22', 'successfully_completed.22', 'notes.22', 'instrument_id.23', 'instrument_label.23', 'visit.23', 'visit_instance.23', 'asmt_ursi.23', 'assessment_date.23', 'assessment_id.23', 'entry_code.23', 'site_id.23', 'source_type.23', 'rater1.23', 'successfully_completed.23', 'notes.23', 'instrument_id.24', 'instrument_label.24', 'visit.24', 'visit_instance.24', 'asmt_ursi.24', 'assessment_date.24', 'assessment_id.24', 'entry_code.24', 'site_id.24', 'source_type.24', 'rater1.24', 'successfully_completed.24', 'notes.24', 'instrument_id.25', 'instrument_label.25', 'visit.25', 'visit_instance.25', 'asmt_ursi.25', 'assessment_date.25', 'assessment_id.25', 'entry_code.25', 'site_id.25', 'source_type.25', 'rater1.25', 'successfully_completed.25', 'notes.25', 'instrument_id.26', 'instrument_label.26', 'visit.26', 'visit_instance.26', 'asmt_ursi.26', 'assessment_date.26', 'assessment_id.26', 'entry_code.26', 'site_id.26', 'source_type.26', 'rater1.26', 'successfully_completed.26', 'notes.26', 'instrument_id.27', 'instrument_label.27', 'visit.27', 'visit_instance.27', 'asmt_ursi.27', 'assessment_date.27', 'assessment_id.27', 'entry_code.27', 'site_id.27', 'source_type.27', 'rater1.27', 'successfully_completed.27', 'notes.27', 'instrument_id.28', 'instrument_label.28', 'visit.28', 'visit_instance.28', 'asmt_ursi.28', 'assessment_date.28', 'assessment_id.28', 'entry_code.28', 'site_id.28', 'source_type.28', 'rater1.28', 'successfully_completed.28', 'notes.28', 'instrument_id.29', 'instrument_label.29', 'visit.29', 'visit_instance.29', 'asmt_ursi.29', 'assessment_date.29', 'assessment_id.29', 'entry_code.29', 'site_id.29', 'source_type.29', 'rater1.29', 'successfully_completed.29', 'notes.29', 'instrument_id.30', 'instrument_label.30', 'visit.30', 'visit_instance.30', 'asmt_ursi.30', 'assessment_date.30', 'assessment_id.30', 'entry_code.30', 'site_id.30', 'source_type.30', 'rater1.30', 'successfully_completed.30', 'notes.30', 'instrument_id.31', 'instrument_label.31', 'visit.31', 'visit_instance.31', 'asmt_ursi.31', 'assessment_date.31', 'assessment_id.31', 'entry_code.31', 'site_id.31', 'source_type.31', 'rater1.31', 'successfully_completed.31', 'notes.31', 'instrument_id.32', 'instrument_label.32', 'visit.32', 'visit_instance.32', 'asmt_ursi.32', 'assessment_date.32', 'assessment_id.32', 'entry_code.32', 'site_id.32', 'source_type.32', 'rater1.32', 'successfully_completed.32', 'notes.32', 'instrument_id.33', 'instrument_label.33', 'visit.33', 'visit_instance.33', 'asmt_ursi.33', 'assessment_date.33', 'assessment_id.33', 'entry_code.33', 'site_id.33', 'source_type.33', 'rater1.33', 'successfully_completed.33', 'notes.33', 'instrument_id.34', 'instrument_label.34', 'visit.34', 'visit_instance.34', 'asmt_ursi.34', 'assessment_date.34', 'assessment_id.34', 'entry_code.34', 'site_id.34', 'source_type.34', 'rater1.34', 'successfully_completed.34', 'notes.34', 'instrument_id.35', 'instrument_label.35', 'visit.35', 'visit_instance.35', 'asmt_ursi.35', 'assessment_date.35', 'assessment_id.35', 'entry_code.35', 'site_id.35', 'source_type.35', 'rater1.35', 'successfully_completed.35', 'notes.35', 'instrument_id.36', 'instrument_label.36', 'visit.36', 'visit_instance.36', 'asmt_ursi.36', 'assessment_date.36', 'assessment_id.36', 'entry_code.36', 'site_id.36', 'source_type.36', 'rater1.36', 'successfully_completed.36', 'notes.36', 'instrument_id.37', 'instrument_label.37', 'visit.37', 'visit_instance.37', 'asmt_ursi.37', 'assessment_date.37', 'assessment_id.37', 'entry_code.37', 'site_id.37', 'source_type.37', 'rater1.37', 'successfully_completed.37', 'notes.37', 'instrument_id.38', 'instrument_label.38', 'visit.38', 'visit_instance.38', 'asmt_ursi.38', 'assessment_date.38', 'assessment_id.38', 'entry_code.38', 'site_id.38', 'source_type.38', 'rater1.38', 'successfully_completed.38', 'notes.38', 'instrument_id.39', 'instrument_label.39', 'visit.39', 'visit_instance.39', 'asmt_ursi.39', 'assessment_date.39', 'assessment_id.39', 'entry_code.39', 'site_id.39', 'source_type.39', 'rater1.39', 'successfully_completed.39', 'notes.39', 'instrument_id.40', 'instrument_label.40', 'visit.40', 'visit_instance.40', 'asmt_ursi.40', 'assessment_date.40', 'assessment_id.40', 'entry_code.40', 'site_id.40', 'source_type.40', 'rater1.40', 'successfully_completed.40', 'notes.40', 'instrument_id.41', 'instrument_label.41', 'visit.41', 'visit_instance.41', 'asmt_ursi.41', 'assessment_date.41', 'assessment_id.41', 'entry_code.41', 'site_id.41', 'source_type.41', 'rater1.41', 'successfully_completed.41', 'notes.41', 'instrument_id.42', 'instrument_label.42', 'visit.42', 'visit_instance.42', 'asmt_ursi.42', 'assessment_date.42', 'assessment_id.42', 'entry_code.42', 'site_id.42', 'source_type.42', 'rater1.42', 'successfully_completed.42', 'notes.42', 'instrument_id.43', 'instrument_label.43', 'visit.43', 'visit_instance.43', 'asmt_ursi.43', 'assessment_date.43', 'assessment_id.43', 'entry_code.43', 'site_id.43', 'source_type.43', 'rater1.43', 'successfully_completed.43', 'notes.43', 'instrument_id.44', 'instrument_label.44', 'visit.44', 'visit_instance.44', 'asmt_ursi.44', 'assessment_date.44', 'assessment_id.44', 'entry_code.44', 'site_id.44', 'source_type.44', 'rater1.44', 'successfully_completed.44', 'notes.44', 'instrument_id.45', 'instrument_label.45', 'visit.45', 'visit_instance.45', 'asmt_ursi.45', 'assessment_date.45', 'assessment_id.45', 'entry_code.45', 'site_id.45', 'source_type.45', 'rater1.45', 'successfully_completed.45', 'notes.45', 'instrument_id.46', 'instrument_label.46', 'visit.46', 'visit_instance.46', 'asmt_ursi.46', 'assessment_date.46', 'assessment_id.46', 'entry_code.46', 'site_id.46', 'source_type.46', 'rater1.46', 'successfully_completed.46', 'notes.46', 'instrument_id.47', 'instrument_label.47', 'visit.47', 'visit_instance.47', 'asmt_ursi.47', 'assessment_date.47', 'assessment_id.47', 'entry_code.47', 'site_id.47', 'source_type.47', 'rater1.47', 'successfully_completed.47', 'notes.47', 'instrument_id.48', 'instrument_label.48', 'visit.48', 'visit_instance.48', 'asmt_ursi.48', 'assessment_date.48', 'assessment_id.48', 'entry_code.48', 'site_id.48', 'source_type.48', 'rater1.48', 'successfully_completed.48', 'notes.48', 'instrument_id.49', 'instrument_label.49', 'visit.49', 'visit_instance.49', 'asmt_ursi.49', 'assessment_date.49', 'assessment_id.49', 'entry_code.49', 'site_id.49', 'source_type.49', 'rater1.49', 'successfully_completed.49', 'notes.49', 'instrument_id.50', 'instrument_label.50', 'visit.50', 'visit_instance.50', 'asmt_ursi.50', 'assessment_date.50', 'assessment_id.50', 'entry_code.50', 'site_id.50', 'source_type.50', 'rater1.50', 'successfully_completed.50', 'notes.50', 'instrument_id.51', 'instrument_label.51', 'visit.51', 'visit_instance.51', 'asmt_ursi.51', 'assessment_date.51', 'assessment_id.51', 'entry_code.51', 'site_id.51', 'source_type.51', 'rater1.51', 'successfully_completed.51', 'notes.51', 'instrument_id.52', 'instrument_label.52', 'visit.52', 'visit_instance.52', 'asmt_ursi.52', 'assessment_date.52', 'assessment_id.52', 'entry_code.52', 'site_id.52', 'source_type.52', 'rater1.52', 'successfully_completed.52', 'notes.52', 'instrument_id.53', 'instrument_label.53', 'visit.53', 'visit_instance.53', 'asmt_ursi.53', 'assessment_date.53', 'assessment_id.53', 'entry_code.53', 'site_id.53', 'source_type.53', 'rater1.53', 'successfully_completed.53', 'notes.53', 'instrument_id.54', 'instrument_label.54', 'visit.54', 'visit_instance.54', 'asmt_ursi.54', 'assessment_date.54', 'assessment_id.54', 'entry_code.54', 'site_id.54', 'source_type.54', 'rater1.54', 'successfully_completed.54', 'notes.54', 'instrument_id.55', 'instrument_label.55', 'visit.55', 'visit_instance.55', 'asmt_ursi.55', 'assessment_date.55', 'assessment_id.55', 'entry_code.55', 'site_id.55', 'source_type.55', 'rater1.55', 'successfully_completed.55', 'notes.55', 'instrument_id.56', 'instrument_label.56', 'visit.56', 'visit_instance.56', 'asmt_ursi.56', 'assessment_date.56', 'assessment_id.56', 'entry_code.56', 'site_id.56', 'source_type.56', 'rater1.56', 'successfully_completed.56', 'notes.56', 'instrument_id.57', 'instrument_label.57', 'visit.57', 'visit_instance.57', 'asmt_ursi.57', 'assessment_date.57', 'assessment_id.57', 'entry_code.57', 'site_id.57', 'source_type.57', 'rater1.57', 'successfully_completed.57', 'notes.57', 'instrument_id.58', 'instrument_label.58', 'visit.58', 'visit_instance.58', 'asmt_ursi.58', 'assessment_date.58', 'assessment_id.58', 'entry_code.58', 'site_id.58', 'source_type.58', 'rater1.58', 'successfully_completed.58', 'notes.58', 'instrument_id.59', 'instrument_label.59', 'visit.59', 'visit_instance.59', 'asmt_ursi.59', 'assessment_date.59', 'assessment_id.59', 'entry_code.59', 'site_id.59', 'source_type.59', 'rater1.59', 'successfully_completed.59', 'notes.59', 'instrument_id.60', 'instrument_label.60', 'visit.60', 'visit_instance.60', 'asmt_ursi.60', 'assessment_date.60', 'assessment_id.60', 'entry_code.60', 'site_id.60', 'source_type.60', 'rater1.60', 'successfully_completed.60', 'notes.60', 'instrument_id.61', 'instrument_label.61', 'visit.61', 'visit_instance.61', 'asmt_ursi.61', 'assessment_date.61', 'assessment_id.61', 'entry_code.61', 'site_id.61', 'source_type.61', 'rater1.61', 'successfully_completed.61', 'notes.61', 'instrument_id.62', 'instrument_label.62', 'visit.62', 'visit_instance.62', 'asmt_ursi.62', 'assessment_date.62', 'assessment_id.62', 'entry_code.62', 'site_id.62', 'source_type.62', 'rater1.62', 'successfully_completed.62', 'notes.62', 'instrument_id.63', 'instrument_label.63', 'visit.63', 'visit_instance.63', 'asmt_ursi.63', 'assessment_date.63', 'assessment_id.63', 'entry_code.63', 'site_id.63', 'source_type.63', 'rater1.63', 'successfully_completed.63', 'notes.63', 'instrument_id.64', 'instrument_label.64', 'visit.64', 'visit_instance.64', 'asmt_ursi.64', 'assessment_date.64', 'assessment_id.64', 'entry_code.64', 'site_id.64', 'source_type.64', 'rater1.64', 'successfully_completed.64', 'notes.64', 'instrument_id.65', 'instrument_label.65', 'visit.65', 'visit_instance.65', 'asmt_ursi.65', 'assessment_date.65', 'assessment_id.65', 'entry_code.65', 'site_id.65', 'source_type.65', 'rater1.65', 'successfully_completed.65', 'notes.65', 'instrument_id.66', 'instrument_label.66', 'visit.66', 'visit_instance.66', 'asmt_ursi.66', 'assessment_date.66', 'assessment_id.66', 'entry_code.66', 'site_id.66', 'source_type.66', 'rater1.66', 'successfully_completed.66', 'notes.66', 'instrument_id.67', 'instrument_label.67', 'visit.67', 'visit_instance.67', 'asmt_ursi.67', 'assessment_date.67', 'assessment_id.67', 'entry_code.67', 'site_id.67', 'source_type.67', 'rater1.67', 'successfully_completed.67', 'notes.67', 'instrument_id.68', 'instrument_label.68', 'visit.68', 'visit_instance.68', 'asmt_ursi.68', 'assessment_date.68', 'assessment_id.68', 'entry_code.68', 'site_id.68', 'source_type.68', 'rater1.68', 'successfully_completed.68', 'notes.68', 'instrument_id.69', 'instrument_label.69', 'visit.69', 'visit_instance.69', 'asmt_ursi.69', 'assessment_date.69', 'assessment_id.69', 'entry_code.69', 'site_id.69', 'source_type.69', 'rater1.69', 'successfully_completed.69', 'notes.69', 'instrument_id.70', 'instrument_label.70', 'visit.70', 'visit_instance.70', 'asmt_ursi.70', 'assessment_date.70', 'assessment_id.70', 'entry_code.70', 'site_id.70', 'source_type.70', 'rater1.70', 'successfully_completed.70', 'notes.70', 'instrument_id.71', 'instrument_label.71', 'visit.71', 'visit_instance.71', 'asmt_ursi.71', 'assessment_date.71', 'assessment_id.71', 'entry_code.71', 'site_id.71', 'source_type.71', 'rater1.71', 'successfully_completed.71', 'notes.71', 'instrument_id.72', 'instrument_label.72', 'visit.72', 'visit_instance.72', 'asmt_ursi.72', 'assessment_date.72', 'assessment_id.72', 'entry_code.72', 'site_id.72', 'source_type.72', 'rater1.72', 'successfully_completed.72', 'notes.72', 'instrument_id.73', 'instrument_label.73', 'visit.73', 'visit_instance.73', 'asmt_ursi.73', 'assessment_date.73', 'assessment_id.73', 'entry_code.73', 'site_id.73', 'source_type.73', 'rater1.73', 'successfully_completed.73', 'notes.73', 'instrument_id.74', 'instrument_label.74', 'visit.74', 'visit_instance.74', 'asmt_ursi.74', 'assessment_date.74', 'assessment_id.74', 'entry_code.74', 'site_id.74', 'source_type.74', 'rater1.74', 'successfully_completed.74', 'notes.74', 'instrument_id.75', 'instrument_label.75', 'visit.75', 'visit_instance.75', 'asmt_ursi.75', 'assessment_date.75', 'assessment_id.75', 'entry_code.75', 'site_id.75', 'source_type.75', 'rater1.75', 'successfully_completed.75', 'notes.75', 'instrument_id.76', 'instrument_label.76', 'visit.76', 'visit_instance.76', 'asmt_ursi.76', 'assessment_date.76', 'assessment_id.76', 'entry_code.76', 'site_id.76', 'source_type.76', 'rater1.76', 'successfully_completed.76', 'notes.76', 'instrument_id.77', 'instrument_label.77', 'visit.77', 'visit_instance.77', 'asmt_ursi.77', 'assessment_date.77', 'assessment_id.77', 'entry_code.77', 'site_id.77', 'source_type.77', 'rater1.77', 'successfully_completed.77', 'notes.77']\n"
     ]
    }
   ],
   "source": [
    "import pandas as pd\n",
    "import numpy as np\n",
    "import csv\n",
    "\n",
    "nfb = pd.read_csv('NeuroFB_part6.csv', low_memory=False)\n",
    "nfb.head()\n",
    "\n",
    "val = nfb.iloc[0].values\n",
    "nfb=nfb.loc[1:,]\n",
    "\n",
    "nfb.columns\n",
    "\n",
    "ident_dict = dict(zip(nfb.columns.get_values(), val.T))\n",
    "\n",
    "remove_keys = [] \n",
    "for key, value in ident_dict.items(): \n",
    "    if(type(value) == float or type(value) == np.float_):\n",
    "        if(np.isnan(value)): \n",
    "            remove_keys.append(key) \n",
    "\n",
    "for i in range(len(remove_keys)):\n",
    "    if remove_keys[i] in ident_dict:\n",
    "        del ident_dict[remove_keys[i]]\n",
    "\n",
    "nfb.set_index('queried_ursi', inplace=True)"
   ]
  },
  {
   "cell_type": "code",
   "execution_count": 2,
   "metadata": {
    "collapsed": true
   },
   "outputs": [],
   "source": [
    "#Codebook reading\n",
    "pre_cb = {}\n",
    "codebook_lines = []\n",
    "with open('CB.csv') as csvfile:\n",
    "    csvreader = csv.reader(csvfile, dialect='excel')\n",
    "    for row in csvreader:\n",
    "        codebook_lines.append(row)\n",
    "\n",
    "current_key = ''\n",
    "for line_vals in codebook_lines:\n",
    "    if 'Instrument' in line_vals[0]:\n",
    "        continue\n",
    "    \n",
    "    if line_vals[3]:\n",
    "        if line_vals[3] in pre_cb:\n",
    "            raise ValueError('Key {0} already exists in dictionary!'.format(line_vals[3]))\n",
    "        pre_cb[line_vals[3]] = {}\n",
    "        current_key = line_vals[3]\n",
    "\n",
    "    if not current_key:\n",
    "        raise ValueError(\"Trying to set value with empty key\")\n",
    "    pre_cb[current_key][line_vals[5]] = line_vals[4]"
   ]
  },
  {
   "cell_type": "code",
   "execution_count": 3,
   "metadata": {
    "collapsed": true
   },
   "outputs": [],
   "source": [
    "#Instrument keys readin from codebook\n",
    "instrument_dict = {}\n",
    "current_instrmt = ''\n",
    "previous_instrmt = ''\n",
    "for line_vals in codebook_lines:\n",
    "    if 'Instrument' in line_vals[0]:\n",
    "        continue\n",
    "    previous_instrmt = ''    \n",
    "    if line_vals[0]:\n",
    "        if line_vals[0] in instrument_dict:\n",
    "            raise ValueError('Error')\n",
    "        current_instrmt = line_vals[0]\n",
    "        instrument_dict.setdefault(current_instrmt, [])\n",
    "    while(current_instrmt!=previous_instrmt):\n",
    "        if line_vals[3]:\n",
    "            instrument_dict[current_instrmt].append(line_vals[3])\n",
    "        previous_instrmt = current_instrmt"
   ]
  },
  {
   "cell_type": "code",
   "execution_count": 4,
   "metadata": {
    "collapsed": true
   },
   "outputs": [],
   "source": [
    "def drop_NanRows(df):\n",
    "    drop_row = True\n",
    "    drop_list = []\n",
    "    for i in range(len(df.index)):\n",
    "        row = df.iloc[i]\n",
    "        drop_row = True\n",
    "        for f in range(len(row)-2):\n",
    "            if(type(row[f+2]) == float or type(row[f+2]) == np.float64):\n",
    "                if not(np.isnan(row[f+2])):\n",
    "                    drop_row = False\n",
    "            elif(type(row[f+2]) == str and row[f+2].lower() != 'nan'):\n",
    "                drop_row = False\n",
    "            else:\n",
    "                drop_row = False\n",
    "        if(drop_row):\n",
    "            drop_list.append(i)\n",
    "    return drop_list"
   ]
  },
  {
   "cell_type": "code",
   "execution_count": 5,
   "metadata": {
    "collapsed": true
   },
   "outputs": [],
   "source": [
    "def convertToCodebook(k, value):\n",
    "    if(type(value)==str and value.lower()!='nan'):\n",
    "        if k in pre_cb.keys():\n",
    "            if value in pre_cb[k]:\n",
    "                return pre_cb[k][value]\n",
    "            elif value not in pre_cb[k]:\n",
    "                return value \n",
    "        else:\n",
    "            return value\n",
    "    elif((type(value) == float or type(value) == np.float64) and np.isnan(value)):\n",
    "        return value"
   ]
  },
  {
   "cell_type": "code",
   "execution_count": 6,
   "metadata": {
    "collapsed": true
   },
   "outputs": [],
   "source": [
    "def get_instrumentID(column_name, var_id):\n",
    "    inst_id = ''\n",
    "    found = False\n",
    "    if not var_id:\n",
    "        for inst, variables in instrument_dict.items():\n",
    "            for val in variables:\n",
    "                if(column_name == val):\n",
    "                    inst_id = inst\n",
    "                    found = True\n",
    "    if (not found) or var_id:\n",
    "        if((column_name[column_name.rfind('_', 0, column_name.rfind('_'))+1:][0]).isdigit()): #if first character after the last '_' is a digit\n",
    "            inst_id = column_name[:(column_name.rfind('_', 0, column_name.rfind('_')))]\n",
    "        else:\n",
    "            inst_id = column_name[:(column_name.rfind('_'))]\n",
    "        for inst, variables in instrument_dict.items():             \n",
    "            if (inst_id == get_instrumentID(variables[0], not var_id)):\n",
    "                inst_id = inst\n",
    "    return inst_id"
   ]
  },
  {
   "cell_type": "code",
   "execution_count": 7,
   "metadata": {
    "collapsed": true
   },
   "outputs": [],
   "source": [
    "#List of possible visit_ids\n",
    "visitID_list = ['V1', 'V1REP', 'V1REP_2', 'V2', 'VA', 'VA_ALG', \n",
    "                'V2REP', 'V2REP_2', 'VA-REP', 'V3', 'V4', 'V5']"
   ]
  },
  {
   "cell_type": "code",
   "execution_count": 8,
   "metadata": {
    "collapsed": true,
    "scrolled": true
   },
   "outputs": [],
   "source": [
    "#Try to make unique list using visitID_list\n",
    "new_col = ['queried_ursi', 'visit_id']\n",
    "processed = []\n",
    "for c in nfb.columns:\n",
    "    for visit in (sorted(visitID_list, key=len, reverse=True)):\n",
    "        if(visit+'_' in c) and (c not in processed):\n",
    "            nfb_col = c.replace(visit+'_', '')\n",
    "            if(nfb_col[0].isdigit()):\n",
    "                nfb_col = nfb_col[nfb_col.find('_')+1:]\n",
    "            new_col.append(nfb_col)\n",
    "            processed.append(c)\n",
    "ist = [x for i, x in enumerate(new_col) if new_col.index(x) == i]"
   ]
  },
  {
   "cell_type": "code",
   "execution_count": 9,
   "metadata": {
    "collapsed": true,
    "scrolled": true
   },
   "outputs": [],
   "source": [
    "#Try to make unique list using visitID_list\n",
    "def get_VisitID(column_name):\n",
    "    ncol = ''\n",
    "    visit = ''\n",
    "    for v in (sorted(visitID_list, key=len, reverse=True)):\n",
    "        if(v+'_' in column_name):\n",
    "            ncol = column_name.replace(v+'_', '')\n",
    "            visit = v\n",
    "            if(ncol[0].isdigit()):\n",
    "                ncol = ncol[ncol.find('_')+1:]\n",
    "                visit = column_name[:column_name.find(ncol)-1]\n",
    "        \n",
    "    return visit, ncol"
   ]
  },
  {
   "cell_type": "code",
   "execution_count": 10,
   "metadata": {
    "collapsed": true
   },
   "outputs": [],
   "source": [
    "new_df = pd.DataFrame(columns=ist)\n",
    "columns = nfb.columns.sort_values()"
   ]
  },
  {
   "cell_type": "code",
   "execution_count": 11,
   "metadata": {
    "collapsed": true
   },
   "outputs": [],
   "source": [
    "def create_instrumentDF(instrmt):\n",
    "    #get column names\n",
    "    a_columns = ['queried_ursi','visit_id']\n",
    "    for c in nfb_part.columns:\n",
    "        if instrmt in c:\n",
    "            a_columns.append(c)\n",
    "    df = pd.DataFrame(columns=a_columns)\n",
    "    \n",
    "    #add to dataframe\n",
    "    for i in range(len(nfb_part.index)):\n",
    "        for c in a_columns:\n",
    "            if instrmt in c:\n",
    "                df.at[i, 'queried_ursi'] = nfb_part.queried_ursi[i]\n",
    "                df.at[i, 'visit_id'] = nfb_part.visit_id[i]\n",
    "                df.at[i, c] = nfb_part.loc[i, c]\n",
    "    #Drop nan rows\n",
    "    df = df.drop(drop_NanRows(df))\n",
    "    df.set_index('queried_ursi', inplace=True)\n",
    "    return df"
   ]
  },
  {
   "cell_type": "code",
   "execution_count": 12,
   "metadata": {
    "collapsed": true
   },
   "outputs": [],
   "source": [
    "#Dataframe restructuring WITH codebook converting\n",
    "row_counter = -1\n",
    "target_index_counter = -1\n",
    "previous_visit = ''\n",
    "\n",
    "for i in range(len(nfb.index)):\n",
    "    previous_visit = ''\n",
    "    row_counter+=1\n",
    "    for c in columns:\n",
    "        for key in ist:\n",
    "            if key in c:\n",
    "                visit_col, nfb_3_col = get_VisitID(c)\n",
    "                if (previous_visit != visit_col):\n",
    "                    target_index_counter+=1\n",
    "                    new_df.at[target_index_counter, 'visit_id'] = visit_col\n",
    "                    new_df.at[target_index_counter, 'queried_ursi'] = nfb.index[row_counter]\n",
    "                    previous_visit = visit_col\n",
    "                val = nfb.loc[nfb.index[row_counter],c]\n",
    "                new_df.at[target_index_counter, nfb_3_col] = convertToCodebook(key, val)\n"
   ]
  },
  {
   "cell_type": "code",
   "execution_count": 13,
   "metadata": {
    "collapsed": true
   },
   "outputs": [],
   "source": [
    "#Drop nan rows of dataframe\n",
    "drop_NanRows(new_df)\n",
    "new_df = new_df.drop(drop_NanRows(new_df))\n",
    "nfb_part = new_df.reset_index(drop=True)\n",
    "nfb_part = nfb_part.dropna(axis=1, how='all')"
   ]
  },
  {
   "cell_type": "code",
   "execution_count": 33,
   "metadata": {},
   "outputs": [],
   "source": [
    "#create dictionary according to instrument/assessment\n",
    "previous_instrument = ''\n",
    "instrument = ''\n",
    "instrumentDF_dict = {}\n",
    "instrument_id = ''\n",
    "\n",
    "for c in nfb_part.columns.sort_values(): \n",
    "    if(c != 'queried_ursi' and c != 'visit_id'):\n",
    "        instrument = c[:(c.find('_'))] \n",
    "        instrument_id = get_instrumentID(c, False)\n",
    "    if (previous_instrument != instrument):\n",
    "        instrumentDF_dict[instrument_id] = create_instrumentDF(instrument)\n",
    "        previous_instrument = instrument"
   ]
  },
  {
   "cell_type": "code",
   "execution_count": 34,
   "metadata": {},
   "outputs": [
    {
     "data": {
      "text/plain": [
       "dict_keys(['SIPI', 'STAI', 'Y-BOCS & CY-BOCS Severity Ratings', 'WASI-II', 'SES-Adult', 'TFEQ', 'Study Number', 'UCLA Youth', 'Satisfaction Survey-Adult', 'Social Network', 'Sexual Orientation Scale', 'Sex-role Identity Scale', 'TSC-40', 'UPPS-P', 'WIAT-IIA', 'YGTSS', 'YRBS-HS', 'Zip Code'])"
      ]
     },
     "execution_count": 34,
     "metadata": {},
     "output_type": "execute_result"
    }
   ],
   "source": [
    "instrumentDF_dict.keys()"
   ]
  }
 ],
 "metadata": {
  "kernelspec": {
   "display_name": "Python 3",
   "language": "python",
   "name": "python3"
  },
  "language_info": {
   "codemirror_mode": {
    "name": "ipython",
    "version": 3
   },
   "file_extension": ".py",
   "mimetype": "text/x-python",
   "name": "python",
   "nbconvert_exporter": "python",
   "pygments_lexer": "ipython3",
   "version": "3.6.3"
  }
 },
 "nbformat": 4,
 "nbformat_minor": 2
}
